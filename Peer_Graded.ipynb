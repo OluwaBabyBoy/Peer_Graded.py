{
 "cells": [
  {
   "cell_type": "markdown",
   "id": "1182448a",
   "metadata": {},
   "source": [
    "# Peer_Graded"
   ]
  },
  {
   "cell_type": "markdown",
   "id": "c6b0f974",
   "metadata": {},
   "source": [
    "## Introduction_it_is!"
   ]
  },
  {
   "cell_type": "markdown",
   "id": "6f2905dc",
   "metadata": {},
   "source": [
    "## Data Science Languages = ['Python', 'SQL', 'R', 'scala']"
   ]
  },
  {
   "cell_type": "markdown",
   "id": "a4668fdc",
   "metadata": {},
   "source": [
    "## Data Science Libraries = ['Pandas', 'Numpy', 'Matplotlib', 'scipy', 'Plotly']"
   ]
  },
  {
   "cell_type": "markdown",
   "id": "e7f0e210",
   "metadata": {},
   "source": [
    "| S/N | Data Science Tools |\n",
    "|-----|--------------------|\n",
    "| 1   | Tensorflow         |\n",
    "| 2   | Python             |\n",
    "| 3   | SAS                |\n",
    "| 4   | Excel              |\n",
    "| 5   | Tableau            |"
   ]
  },
  {
   "cell_type": "markdown",
   "id": "87126a96",
   "metadata": {},
   "source": [
    "#### Introducing arithmetic examples\n",
    "2 + 2 = 4\n",
    "\n",
    "3 * 2 = 6\n",
    "\n",
    "8 / 4 = 2\n",
    "...and so on."
   ]
  },
  {
   "cell_type": "code",
   "execution_count": 7,
   "id": "93a52cac",
   "metadata": {},
   "outputs": [
    {
     "name": "stdout",
     "output_type": "stream",
     "text": [
      "4\n",
      "5\n"
     ]
    }
   ],
   "source": [
    "#multiply and add --> c multiplies while d adds\n",
    "a = int(input())\n",
    "b = int(input())\n",
    "c = a * b\n",
    "d = a + b"
   ]
  },
  {
   "cell_type": "code",
   "execution_count": 8,
   "id": "6ae8195a",
   "metadata": {},
   "outputs": [
    {
     "data": {
      "text/plain": [
       "20"
      ]
     },
     "execution_count": 8,
     "metadata": {},
     "output_type": "execute_result"
    }
   ],
   "source": [
    "c"
   ]
  },
  {
   "cell_type": "code",
   "execution_count": 9,
   "id": "cd41aeee",
   "metadata": {},
   "outputs": [
    {
     "data": {
      "text/plain": [
       "9"
      ]
     },
     "execution_count": 9,
     "metadata": {},
     "output_type": "execute_result"
    }
   ],
   "source": [
    "d"
   ]
  },
  {
   "cell_type": "code",
   "execution_count": 21,
   "id": "1aebd563",
   "metadata": {},
   "outputs": [
    {
     "data": {
      "text/plain": [
       "5.0"
      ]
     },
     "execution_count": 21,
     "metadata": {},
     "output_type": "execute_result"
    }
   ],
   "source": [
    "#convert 300 minutes to hours\n",
    "m = 300/60\n",
    "m"
   ]
  },
  {
   "cell_type": "markdown",
   "id": "40420738",
   "metadata": {},
   "source": [
    "# Objectives\n",
    "### Objective 1 here\n",
    "### Objective 2 here\n",
    "### Objective 3 here\n",
    "### Objective 4 here"
   ]
  },
  {
   "cell_type": "markdown",
   "id": "084d5cad",
   "metadata": {},
   "source": [
    "# Author - Oluwafemi John"
   ]
  },
  {
   "cell_type": "code",
   "execution_count": null,
   "id": "c826671b",
   "metadata": {},
   "outputs": [],
   "source": []
  }
 ],
 "metadata": {
  "kernelspec": {
   "display_name": "Python 3 (ipykernel)",
   "language": "python",
   "name": "python3"
  },
  "language_info": {
   "codemirror_mode": {
    "name": "ipython",
    "version": 3
   },
   "file_extension": ".py",
   "mimetype": "text/x-python",
   "name": "python",
   "nbconvert_exporter": "python",
   "pygments_lexer": "ipython3",
   "version": "3.11.4"
  }
 },
 "nbformat": 4,
 "nbformat_minor": 5
}
